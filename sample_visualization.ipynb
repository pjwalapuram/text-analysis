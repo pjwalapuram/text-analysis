{
  "nbformat": 4,
  "nbformat_minor": 0,
  "metadata": {
    "colab": {
      "provenance": []
    },
    "kernelspec": {
      "name": "python3",
      "display_name": "Python 3"
    },
    "language_info": {
      "name": "python"
    }
  },
  "cells": [
    {
      "cell_type": "code",
      "execution_count": null,
      "metadata": {
        "colab": {
          "base_uri": "https://localhost:8080/"
        },
        "id": "K7KqhorzW1ku",
        "outputId": "5ac157c6-03bc-434f-8acf-531d14ef4ec0"
      },
      "outputs": [
        {
          "output_type": "stream",
          "name": "stdout",
          "text": [
            "Mounted at /content/drive\n"
          ]
        }
      ],
      "source": [
        "from google.colab import drive\n",
        "drive.mount('/content/drive')"
      ]
    },
    {
      "cell_type": "code",
      "source": [
        "!git clone https://github.com/pjwalapuram/text-analysis.git"
      ],
      "metadata": {
        "colab": {
          "base_uri": "https://localhost:8080/"
        },
        "id": "sJNzu_kdZkWq",
        "outputId": "611af6b0-10ae-463e-9da7-6aa8e82af633"
      },
      "execution_count": null,
      "outputs": [
        {
          "output_type": "stream",
          "name": "stdout",
          "text": [
            "Cloning into 'text-analysis'...\n",
            "remote: Enumerating objects: 90, done.\u001b[K\n",
            "remote: Counting objects: 100% (90/90), done.\u001b[K\n",
            "remote: Compressing objects: 100% (60/60), done.\u001b[K\n",
            "remote: Total 90 (delta 43), reused 67 (delta 27), pack-reused 0\u001b[K\n",
            "Receiving objects: 100% (90/90), 16.24 KiB | 8.12 MiB/s, done.\n",
            "Resolving deltas: 100% (43/43), done.\n"
          ]
        }
      ]
    },
    {
      "cell_type": "code",
      "source": [
        "%cd text-analysis"
      ],
      "metadata": {
        "colab": {
          "base_uri": "https://localhost:8080/"
        },
        "id": "luswKSShZyK0",
        "outputId": "ce93afd7-70d7-47f1-80a7-01743a27d835"
      },
      "execution_count": null,
      "outputs": [
        {
          "output_type": "stream",
          "name": "stdout",
          "text": [
            "/content/text-analysis\n"
          ]
        }
      ]
    },
    {
      "cell_type": "code",
      "source": [
        "!ls -l\n",
        "#!pip install -r requirements.txt"
      ],
      "metadata": {
        "colab": {
          "base_uri": "https://localhost:8080/"
        },
        "id": "APCj_2kLZz-g",
        "outputId": "4c00f2c5-4ad7-4e6b-f8e3-1ad1a893f1cf"
      },
      "execution_count": null,
      "outputs": [
        {
          "output_type": "stream",
          "name": "stdout",
          "text": [
            "total 32\n",
            "-rw-r--r-- 1 root root  524 Sep 17 03:09 Dockerfile\n",
            "-rw-r--r-- 1 root root 3444 Sep 17 03:09 main.py\n",
            "-rw-r--r-- 1 root root 7170 Sep 17 03:09 openapi_spec.json\n",
            "-rw-r--r-- 1 root root  952 Sep 17 03:09 README.md\n",
            "-rw-r--r-- 1 root root 1156 Sep 17 03:09 requirements.txt\n",
            "drwxr-xr-x 2 root root 4096 Sep 17 03:09 src\n",
            "-rw-r--r-- 1 root root 3103 Sep 17 03:09 tests.py\n"
          ]
        }
      ]
    },
    {
      "cell_type": "code",
      "source": [
        "import src.data_reader as data_reader\n",
        "import sqlite3\n",
        "from src.preprocess import Preprocess\n",
        "from src.model import LDA"
      ],
      "metadata": {
        "id": "pHSQusnNa_WP"
      },
      "execution_count": null,
      "outputs": []
    },
    {
      "cell_type": "code",
      "source": [
        "def test_csv(filepath):\n",
        "\tdata = data_reader.get_csv_data(filepath, ['companyName', 'filedAt', 'Section1', 'Section1A', 'Section7'])\n",
        "\tmerged = data_reader.concatenate_columns(data, ['Section1', 'Section1A', 'Section7'])\n",
        "\tyear = data['filedAt'].apply(lambda x: x.split('-')[0])\n",
        "\tnew_field = [(\"Year\", x) for x in year] + [(\"Year\", x) for x in year] + [(\"Year\", x) for x in year]\n",
        "\treturn merged, new_field"
      ],
      "metadata": {
        "id": "2531pDdTbp7h"
      },
      "execution_count": null,
      "outputs": []
    },
    {
      "cell_type": "code",
      "source": [
        "data, year = test_csv(\"https://storage.googleapis.com/iig-ds-test-data/all_filings_and_sections.csv\")"
      ],
      "metadata": {
        "id": "m5Qq3Ih4brKT"
      },
      "execution_count": null,
      "outputs": []
    },
    {
      "cell_type": "code",
      "source": [
        "sample_data = data[:100]\n",
        "sample_year = year[:100]\n",
        "preprocessor = Preprocess(sample_data)\n",
        "preprocessor.lemmatize_and_filter()\n",
        "sentiments = preprocessor.get_sentiment()"
      ],
      "metadata": {
        "colab": {
          "base_uri": "https://localhost:8080/"
        },
        "id": "GufQ3Xa7b47c",
        "outputId": "1d84c48c-75be-4017-c47b-f06923cb51c4"
      },
      "execution_count": null,
      "outputs": [
        {
          "output_type": "stream",
          "name": "stdout",
          "text": [
            "Preprocessing...\n"
          ]
        },
        {
          "output_type": "stream",
          "name": "stderr",
          "text": [
            "100%|██████████| 100/100 [03:12<00:00,  1.92s/it]\n"
          ]
        }
      ]
    },
    {
      "cell_type": "code",
      "source": [
        "!rm gic_text_analysis.db"
      ],
      "metadata": {
        "id": "wQvIkSDyV6ao"
      },
      "execution_count": null,
      "outputs": []
    },
    {
      "cell_type": "code",
      "source": [
        "import src.database as database\n",
        "database.save_documents_to_db(preprocessor.sentences, \"gic_text_analysis.db\")\n",
        "database.save_additional_field_to_db(year, \"gic_text_analysis.db\")\n",
        "database.save_sentiments_to_db(sentiments, \"gic_text_analysis.db\")"
      ],
      "metadata": {
        "id": "J3-fl9v2eXjp"
      },
      "execution_count": null,
      "outputs": []
    },
    {
      "cell_type": "code",
      "source": [
        "def test_model_fit(vectorized_texts, feature_names):\n",
        "\tbuild_model = LDA(vectorized_texts, feature_names, n_components=5, max_iter=10, learning_method='online')\n",
        "\tbuild_model.fit_model()\n",
        "\ttopics = build_model.get_topics(5)\n",
        "\tdatabase.save_topics_to_db(topics, \"gic_text_analysis.db\")\n",
        "\tassignments = build_model.get_topic_assignments()\n",
        "\tdatabase.save_assignments_to_db(assignments, \"gic_text_analysis.db\")"
      ],
      "metadata": {
        "id": "Q3PnqkXceaFg"
      },
      "execution_count": null,
      "outputs": []
    },
    {
      "cell_type": "code",
      "source": [
        "def test_tfidf_vectorizer(filtered_texts):\n",
        "\tvectorized_texts = filtered_texts.vectorize_tfidf()\n",
        "\treturn vectorized_texts, filtered_texts.tfidf.get_feature_names_out()"
      ],
      "metadata": {
        "id": "2Ri0rZ2teoVY"
      },
      "execution_count": null,
      "outputs": []
    },
    {
      "cell_type": "code",
      "source": [
        "v_texts, features = test_tfidf_vectorizer(preprocessor)\n",
        "test_model_fit(v_texts, features)"
      ],
      "metadata": {
        "colab": {
          "base_uri": "https://localhost:8080/"
        },
        "id": "j_YIAa6beeXg",
        "outputId": "dabd7863-920f-4c5b-9315-bbc6e456a895"
      },
      "execution_count": null,
      "outputs": [
        {
          "output_type": "stream",
          "name": "stdout",
          "text": [
            "Running Model...\n",
            "Done, took 71.32 seconds\n"
          ]
        }
      ]
    },
    {
      "cell_type": "code",
      "source": [
        "import pandas as pd\n",
        "\n",
        "con = sqlite3.connect(\"gic_text_analysis.db\")\n",
        "res = pd.read_sql_query(\"SELECT document, topic, sentiment, fieldvalue FROM documents, lda_topics, assigned_topics, sentiment_analysis, additional_fields WHERE documents.document_id = sentiment_analysis.document_id AND documents.document_id = assigned_topics.document_id AND assigned_topics.topic_id = lda_topics.topic_id AND documents.text_id = additional_fields.text_id\", con)\n"
      ],
      "metadata": {
        "id": "ZpNJG5LLe_3j"
      },
      "execution_count": null,
      "outputs": []
    },
    {
      "cell_type": "code",
      "source": [
        "import seaborn"
      ],
      "metadata": {
        "id": "zshMFeZlwIo1"
      },
      "execution_count": null,
      "outputs": []
    },
    {
      "cell_type": "code",
      "source": [
        "import matplotlib.pyplot as plt"
      ],
      "metadata": {
        "id": "9YHR5IZpykgf"
      },
      "execution_count": null,
      "outputs": []
    },
    {
      "cell_type": "code",
      "source": [
        "topics = pd.read_sql_query(\"SELECT topic from lda_topics\", con)\n",
        "print(topics)\n",
        "by_topic_and_year = pd.read_sql_query(\"SELECT lda_topics.topic_id, COUNT(topic), fieldvalue FROM documents, lda_topics, assigned_topics, additional_fields WHERE documents.document_id = assigned_topics.document_id AND assigned_topics.topic_id = lda_topics.topic_id AND documents.text_id = additional_fields.text_id GROUP BY fieldvalue, topic\", con)\n"
      ],
      "metadata": {
        "colab": {
          "base_uri": "https://localhost:8080/"
        },
        "id": "Tnfrw-7twNYD",
        "outputId": "95c841c1-237d-4a0a-ce7d-c4d9a4c1a3bf"
      },
      "execution_count": null,
      "outputs": [
        {
          "output_type": "stream",
          "name": "stdout",
          "text": [
            "                                          topic\n",
            "0      service customer product pharmacy system\n",
            "1       president inc united international vice\n",
            "2         health care employee program hospital\n",
            "3  table_start medicare revenue table_end group\n",
            "4          regulation state law subject federal\n"
          ]
        }
      ]
    },
    {
      "cell_type": "markdown",
      "source": [
        "Topics around healthcare, law, business are major themes"
      ],
      "metadata": {
        "id": "VyFPDjlqd8RH"
      }
    },
    {
      "cell_type": "code",
      "source": [
        "ax = seaborn.lineplot(data=by_topic_and_year, y='COUNT(topic)', x='fieldvalue', hue='topic_id')\n",
        "ax.set(xlabel='Year', ylabel='Frequency')\n",
        "seaborn.move_legend(ax, \"upper left\", bbox_to_anchor=(1,1))"
      ],
      "metadata": {
        "colab": {
          "base_uri": "https://localhost:8080/",
          "height": 449
        },
        "id": "oBSJMSo40_IR",
        "outputId": "5c439eba-7f21-4b71-e023-ad87b6fc83ce"
      },
      "execution_count": null,
      "outputs": [
        {
          "output_type": "display_data",
          "data": {
            "text/plain": [
              "<Figure size 640x480 with 1 Axes>"
            ],
            "image/png": "[encoded data removed]"
          },
          "metadata": {}
        }
      ]
    },
    {
      "cell_type": "markdown",
      "source": [
        "Topics 1 and 3 are emerging topics, while Topics 0 and 2 are on a downward trend. Topic 4 is emerging except for a small dip more recently."
      ],
      "metadata": {
        "id": "3SkkzUDweBND"
      }
    },
    {
      "cell_type": "code",
      "source": [
        "most_freq_sentiment_by_topic = pd.read_sql_query(\"SELECT lda_topics.topic, sentiment FROM documents, lda_topics, assigned_topics, sentiment_analysis WHERE documents.document_id = assigned_topics.document_id AND assigned_topics.topic_id = lda_topics.topic_id AND documents.document_id = sentiment_analysis.document_id GROUP BY topic ORDER BY COUNT(sentiment)\", con)\n",
        "print(most_freq_sentiment_by_topic)"
      ],
      "metadata": {
        "colab": {
          "base_uri": "https://localhost:8080/"
        },
        "id": "I-U5Z9O7Yiib",
        "outputId": "0e9fc34f-3b7d-4d69-ba68-610f91707f09"
      },
      "execution_count": null,
      "outputs": [
        {
          "output_type": "stream",
          "name": "stdout",
          "text": [
            "                                          topic sentiment\n",
            "0       president inc united international vice   neutral\n",
            "1  table_start medicare revenue table_end group  negative\n",
            "2         health care employee program hospital  positive\n",
            "3      service customer product pharmacy system  positive\n",
            "4          regulation state law subject federal   neutral\n"
          ]
        }
      ]
    },
    {
      "cell_type": "markdown",
      "source": [
        "Topics trending higher (4, 2) are positive or neutral. Topics trending very low are negative (1). Health care topic in particular sees a sharp rise in 2020 that continues until 2022 before falling, very likely due to COVID."
      ],
      "metadata": {
        "id": "6pFBZUSJeF2v"
      }
    },
    {
      "cell_type": "code",
      "source": [],
      "metadata": {
        "id": "Yb_oOgNjZBBn"
      },
      "execution_count": null,
      "outputs": []
    }
  ]
}